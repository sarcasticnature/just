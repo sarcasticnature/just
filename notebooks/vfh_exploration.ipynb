{
 "cells": [
  {
   "cell_type": "code",
   "execution_count": null,
   "id": "da8b159d-7f14-40b4-8cfb-f68baf9aac2e",
   "metadata": {},
   "outputs": [],
   "source": [
    "import matplotlib.pyplot as plt\n",
    "import numpy as np\n",
    "import h5py\n",
    "\n",
    "f = h5py.File('/tmp/just/jerry/foo.h5', 'r')"
   ]
  },
  {
   "cell_type": "code",
   "execution_count": null,
   "id": "05030358-41e9-4c5d-8cf1-68c59f5daed6",
   "metadata": {},
   "outputs": [],
   "source": [
    "print(f['vfh_agent/polar_histogram'].shape)\n",
    "dset = f['vfh_agent/polar_histogram']\n",
    "\n",
    "\n",
    "theta = np.linspace(0.0, 2 * np.pi, dset.shape[0], endpoint=False)\n",
    "ax1 = plt.subplot(131, projection='polar')\n",
    "ax1.bar(theta, dset[:,5])\n",
    "ax1.set_title('t = 5')\n",
    "ax2 = plt.subplot(132, projection='polar')\n",
    "ax2.bar(theta, dset[:,500])\n",
    "ax2.set_title('t = 500')\n",
    "ax3 = plt.subplot(133, projection='polar')\n",
    "ax3.bar(theta, dset[:,1000])\n",
    "ax3.set_title('t = 1000')\n",
    "#ax.set_theta_zero_location('E')\n",
    "plt.tight_layout()"
   ]
  },
  {
   "cell_type": "code",
   "execution_count": null,
   "id": "73087784-7f54-4adc-b44d-4628fbb21cd9",
   "metadata": {},
   "outputs": [],
   "source": [
    "print(f['vfh_agent/steering_angle'].shape)\n",
    "dset = f['vfh_agent/steering_angle']\n",
    "print(np.rad2deg(dset[5]))\n",
    "print(np.rad2deg(dset[100]))\n",
    "print(np.rad2deg(dset[200]))\n",
    "foo = np.rad2deg(dset)\n",
    "ax = plt.subplot(projection='polar')\n",
    "print(dset.shape[0])\n",
    "#ax.plot(dset[:], np.arange(0,dset.shape[0]))\n",
    "ax.plot(dset[:800], np.arange(0,800))"
   ]
  },
  {
   "cell_type": "code",
   "execution_count": null,
   "id": "91c7ff66-db30-47fe-86d7-94872da792ad",
   "metadata": {},
   "outputs": [],
   "source": [
    "dset2 = np.array(f['vfh_agent/window_histogram'])\n",
    "dset2 = dset2.reshape(100,100)\n",
    "idxs = dset2.nonzero()\n",
    "\n",
    "plt.imshow(dset2.reshape(100,100), interpolation='none', origin='lower')"
   ]
  },
  {
   "cell_type": "code",
   "execution_count": null,
   "id": "dd99df72-97e6-44bf-89cc-6a6eef365a3d",
   "metadata": {},
   "outputs": [],
   "source": [
    "dset3 = np.array(f['vfh_agent/full_histogram'])\n",
    "print(dset3.shape)\n",
    "dset3 = dset3.reshape(1000,1000)\n",
    "\n",
    "plt.imshow(dset3[480:520,480:520], interpolation='none', origin='lower')"
   ]
  }
 ],
 "metadata": {
  "kernelspec": {
   "display_name": "Python 3 (ipykernel)",
   "language": "python",
   "name": "python3"
  },
  "language_info": {
   "codemirror_mode": {
    "name": "ipython",
    "version": 3
   },
   "file_extension": ".py",
   "mimetype": "text/x-python",
   "name": "python",
   "nbconvert_exporter": "python",
   "pygments_lexer": "ipython3",
   "version": "3.10.12"
  }
 },
 "nbformat": 4,
 "nbformat_minor": 5
}
