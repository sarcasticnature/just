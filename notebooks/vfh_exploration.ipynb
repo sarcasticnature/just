{
 "cells": [
  {
   "cell_type": "code",
   "execution_count": null,
   "id": "da8b159d-7f14-40b4-8cfb-f68baf9aac2e",
   "metadata": {},
   "outputs": [],
   "source": [
    "import matplotlib.pyplot as plt\n",
    "import numpy as np\n",
    "import h5py\n",
    "\n",
    "f = h5py.File('/tmp/just/jerry/foo.h5', 'r')"
   ]
  },
  {
   "cell_type": "code",
   "execution_count": null,
   "id": "f39054b0-b1d3-4be3-8cc4-0af3d69afd69",
   "metadata": {},
   "outputs": [],
   "source": [
    "#print(f['vfh_agent/polar_histogram'].shape)\n",
    "dset = f['vfh_agent/polar_histogram']\n",
    "\n",
    "theta = np.linspace(0.0, 2 * np.pi, dset.shape[0], endpoint=False)\n",
    "#ax1 = plt.subplot(111, projection='polar')\n",
    "#ax1.bar(theta, dset[:,5])\n",
    "#ax1.set_title('t = 5')\n",
    "\n",
    "axes = []\n",
    "for i in range(1,4):\n",
    "    n = int(i * (dset.shape[1] - 1) / 3)\n",
    "    axes.append(plt.subplot(2, 3, i, projection='polar'))\n",
    "    axes[i-1].bar(theta, dset[:,n])\n",
    "    axes[i-1].set_title(f't = {n}')\n",
    "\n",
    "\n",
    "dset2 = np.array(f['vfh_agent/window_histogram'])\n",
    "#print(dset2.shape)\n",
    "for i in range(1,4):\n",
    "    n = int(i * (dset2.shape[1] - 1) / 3)\n",
    "    axes.append(plt.subplot(2, 3, i + 3))\n",
    "    img = dset2[:,n].reshape(50,50);\n",
    "    img[25,25] = 25;\n",
    "    axes[i+2].imshow(img, interpolation='none', origin='lower')\n",
    "    axes[i+2].set_title(f't = {n}')\n",
    "\n",
    "plt.tight_layout()\n",
    "plt.show()"
   ]
  },
  {
   "cell_type": "code",
   "execution_count": null,
   "id": "73087784-7f54-4adc-b44d-4628fbb21cd9",
   "metadata": {},
   "outputs": [],
   "source": [
    "from matplotlib.patches import FancyArrowPatch\n",
    "dset3 = f['vfh_agent/packed_odometry']\n",
    "\n",
    "angle_idx = dset3.attrs['angle_index']\n",
    "speed_idx = dset3.attrs['speed_index']\n",
    "x_idx = dset3.attrs['x_index']\n",
    "y_idx = dset3.attrs['y_index']\n",
    "\n",
    "fig=plt.figure(figsize=(5,5), dpi= 100)\n",
    "gs = fig.add_gridspec(3,2)\n",
    "\n",
    "ax_angle = plt.subplot(gs[0,0], projection='polar')\n",
    "print(dset3.shape)\n",
    "ax_angle.plot(dset3[angle_idx,:], np.arange(0, dset3.shape[1]))\n",
    "\n",
    "ax_speed = plt.subplot(gs[0,1])\n",
    "ax_speed.plot(np.arange(0, dset3.shape[1]), dset3[speed_idx,:])\n",
    "\n",
    "ax_xy = plt.subplot(gs[1:3,:])\n",
    "ax_xy.plot(dset3[x_idx,:], dset3[y_idx,:])\n",
    "ax_xy.grid()\n",
    "ax_xy.set_xlim(-30, 30)\n",
    "ax_xy.set_ylim(-30, 30)\n",
    "\n",
    "# https://stackoverflow.com/a/47623457\n",
    "def arrow(x,y,ax,n):\n",
    "    d = len(x)//(n+1)    \n",
    "    ind = np.arange(d,len(x),d)\n",
    "    for i in ind:\n",
    "        ar = FancyArrowPatch ((x[i-1],y[i-1]),(x[i],y[i]), \n",
    "                              arrowstyle='fancy', mutation_scale=20)\n",
    "        ax.add_patch(ar)\n",
    "\n",
    "arrow(dset3[x_idx,:], dset3[y_idx,:], ax_xy, 10)\n",
    "\n",
    "plt.tight_layout()\n",
    "plt.show()"
   ]
  },
  {
   "cell_type": "code",
   "execution_count": null,
   "id": "dd99df72-97e6-44bf-89cc-6a6eef365a3d",
   "metadata": {},
   "outputs": [],
   "source": [
    "dset4 = np.array(f['vfh_agent/full_histogram'])\n",
    "dset4 = dset4.reshape(1000,1000)\n",
    "\n",
    "plt.imshow(dset4[450:550,450:550], interpolation='none', origin='lower')\n",
    "plt.show()"
   ]
  },
  {
   "cell_type": "code",
   "execution_count": null,
   "id": "ce9ea1e1-92dd-440a-a46c-aad3b7d6760b",
   "metadata": {},
   "outputs": [],
   "source": [
    "f.close()"
   ]
  }
 ],
 "metadata": {
  "kernelspec": {
   "display_name": "Python 3 (ipykernel)",
   "language": "python",
   "name": "python3"
  },
  "language_info": {
   "codemirror_mode": {
    "name": "ipython",
    "version": 3
   },
   "file_extension": ".py",
   "mimetype": "text/x-python",
   "name": "python",
   "nbconvert_exporter": "python",
   "pygments_lexer": "ipython3",
   "version": "3.10.12"
  }
 },
 "nbformat": 4,
 "nbformat_minor": 5
}
